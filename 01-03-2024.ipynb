{
 "cells": [
  {
   "cell_type": "markdown",
   "id": "5653cd97-eb7e-4564-bf24-93f266122550",
   "metadata": {},
   "source": [
    "# Linear Search"
   ]
  },
  {
   "cell_type": "markdown",
   "id": "6ba28c6d-4e9f-4a36-a1bb-6ddc5f8c1625",
   "metadata": {},
   "source": [
    "## Method-1"
   ]
  },
  {
   "cell_type": "code",
   "execution_count": 42,
   "id": "831bcd59-a320-445d-bc8f-75992d966eb9",
   "metadata": {},
   "outputs": [],
   "source": [
    "li = [3,54,76,2,34,6,7,8,89]\n",
    "Target = 89"
   ]
  },
  {
   "cell_type": "code",
   "execution_count": 43,
   "id": "1fc8a639-d2ad-4780-8fea-a5383817c64e",
   "metadata": {},
   "outputs": [],
   "source": [
    "def linearsearch(li,Target):\n",
    "    for i in range(len(li)):\n",
    "        if li[i] == Target:\n",
    "            return li.index(li[i])\n",
    "    return -1"
   ]
  },
  {
   "cell_type": "code",
   "execution_count": 44,
   "id": "e3629670-56b1-4826-a043-17388cf6e33f",
   "metadata": {},
   "outputs": [],
   "source": [
    "result = linearsearch(li,Target)"
   ]
  },
  {
   "cell_type": "code",
   "execution_count": 45,
   "id": "81ff1dba-15b1-40f5-9f84-016cf197b028",
   "metadata": {},
   "outputs": [
    {
     "name": "stdout",
     "output_type": "stream",
     "text": [
      "89 found at index 8 using linear search..\n"
     ]
    }
   ],
   "source": [
    "print(li[result],f'found at index {result} using linear search..')"
   ]
  },
  {
   "cell_type": "code",
   "execution_count": null,
   "id": "163259b8-a2b5-478a-9688-5b56fdcf01d7",
   "metadata": {},
   "outputs": [],
   "source": []
  },
  {
   "cell_type": "markdown",
   "id": "370f9f01-54cf-4dc2-8db7-4173cabe9a94",
   "metadata": {},
   "source": [
    "## Method-2"
   ]
  },
  {
   "cell_type": "code",
   "execution_count": 46,
   "id": "76cb16cf-ec1a-4e3a-8503-94c349ba7bcb",
   "metadata": {},
   "outputs": [
    {
     "name": "stdout",
     "output_type": "stream",
     "text": [
      "Number found at index 9 using linear search..\n"
     ]
    }
   ],
   "source": [
    "def linear_search(numbers_list,number_to_find):\n",
    "    for index,element in enumerate(numbers_list):\n",
    "        #print(index,element)\n",
    "        if element == number_to_find:\n",
    "            return index\n",
    "    return -1\n",
    "\n",
    "numbers_list = [2,56,78,1,3,4,5,6,7,8,9]\n",
    "number_to_find = 8\n",
    "index = linear_search(numbers_list,number_to_find)\n",
    "print(f\"Number found at index {index} using linear search..\")"
   ]
  },
  {
   "cell_type": "code",
   "execution_count": null,
   "id": "8b100f7c-145b-4e34-b237-dd4b80f99fc4",
   "metadata": {},
   "outputs": [],
   "source": []
  },
  {
   "cell_type": "code",
   "execution_count": null,
   "id": "986f4147-376a-423a-8e1f-e12221098a14",
   "metadata": {},
   "outputs": [],
   "source": []
  },
  {
   "cell_type": "code",
   "execution_count": null,
   "id": "17383987-fef1-4d39-804d-c6394f1164d6",
   "metadata": {},
   "outputs": [],
   "source": []
  },
  {
   "cell_type": "code",
   "execution_count": null,
   "id": "dc7337dc-0168-4506-8336-12a092d5ad14",
   "metadata": {},
   "outputs": [],
   "source": []
  },
  {
   "cell_type": "code",
   "execution_count": null,
   "id": "ceb28899-145b-4635-b7c9-0820eb6a40a6",
   "metadata": {},
   "outputs": [],
   "source": []
  },
  {
   "cell_type": "code",
   "execution_count": null,
   "id": "da7bc9bd-34cf-49b9-8ed7-468b4b55c699",
   "metadata": {},
   "outputs": [],
   "source": []
  },
  {
   "cell_type": "code",
   "execution_count": null,
   "id": "cca6ac58-469b-47f1-bdab-2a56d830e2bb",
   "metadata": {},
   "outputs": [],
   "source": []
  },
  {
   "cell_type": "code",
   "execution_count": null,
   "id": "f9973bc6-56e1-4460-bb0f-93aa9afab9ab",
   "metadata": {},
   "outputs": [],
   "source": []
  },
  {
   "cell_type": "code",
   "execution_count": null,
   "id": "9af67324-06ee-44c4-89c0-d6583c33cc26",
   "metadata": {},
   "outputs": [],
   "source": []
  }
 ],
 "metadata": {
  "kernelspec": {
   "display_name": "Python 3 (ipykernel)",
   "language": "python",
   "name": "python3"
  },
  "language_info": {
   "codemirror_mode": {
    "name": "ipython",
    "version": 3
   },
   "file_extension": ".py",
   "mimetype": "text/x-python",
   "name": "python",
   "nbconvert_exporter": "python",
   "pygments_lexer": "ipython3",
   "version": "3.12.2"
  }
 },
 "nbformat": 4,
 "nbformat_minor": 5
}
